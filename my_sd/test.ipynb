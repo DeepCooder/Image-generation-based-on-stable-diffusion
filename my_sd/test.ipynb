{
 "cells": [
  {
   "cell_type": "code",
   "execution_count": 1,
   "metadata": {},
   "outputs": [],
   "source": [
    "import torch\n",
    "from torch import nn\n",
    "from torch.nn import functional as F"
   ]
  },
  {
   "cell_type": "code",
   "execution_count": 2,
   "metadata": {},
   "outputs": [],
   "source": [
    "from encoder import VAE_Encoder\n",
    "encoder = VAE_Encoder()"
   ]
  },
  {
   "cell_type": "code",
   "execution_count": 3,
   "metadata": {},
   "outputs": [
    {
     "data": {
      "text/plain": [
       "<bound method Module.state_dict of VAE_Encoder(\n",
       "  (0): Conv2d(3, 128, kernel_size=(3, 3), stride=(1, 1), padding=(1, 1))\n",
       "  (1): VAE_ResidualBlock(\n",
       "    (groupnorm_1): GroupNorm(32, 128, eps=1e-05, affine=True)\n",
       "    (conv_1): Conv2d(128, 128, kernel_size=(3, 3), stride=(1, 1), padding=(1, 1))\n",
       "    (groupnorm_2): GroupNorm(32, 128, eps=1e-05, affine=True)\n",
       "    (conv_2): Conv2d(128, 128, kernel_size=(3, 3), stride=(1, 1), padding=(1, 1))\n",
       "    (residual_layer): Identity()\n",
       "  )\n",
       "  (2): VAE_ResidualBlock(\n",
       "    (groupnorm_1): GroupNorm(32, 128, eps=1e-05, affine=True)\n",
       "    (conv_1): Conv2d(128, 128, kernel_size=(3, 3), stride=(1, 1), padding=(1, 1))\n",
       "    (groupnorm_2): GroupNorm(32, 128, eps=1e-05, affine=True)\n",
       "    (conv_2): Conv2d(128, 128, kernel_size=(3, 3), stride=(1, 1), padding=(1, 1))\n",
       "    (residual_layer): Identity()\n",
       "  )\n",
       "  (3): Conv2d(128, 128, kernel_size=(3, 3), stride=(2, 2))\n",
       "  (4): VAE_ResidualBlock(\n",
       "    (groupnorm_1): GroupNorm(32, 128, eps=1e-05, affine=True)\n",
       "    (conv_1): Conv2d(128, 256, kernel_size=(3, 3), stride=(1, 1), padding=(1, 1))\n",
       "    (groupnorm_2): GroupNorm(32, 256, eps=1e-05, affine=True)\n",
       "    (conv_2): Conv2d(256, 256, kernel_size=(3, 3), stride=(1, 1), padding=(1, 1))\n",
       "    (residual_layer): Conv2d(128, 256, kernel_size=(3, 3), stride=(1, 1))\n",
       "  )\n",
       "  (5): VAE_ResidualBlock(\n",
       "    (groupnorm_1): GroupNorm(32, 256, eps=1e-05, affine=True)\n",
       "    (conv_1): Conv2d(256, 256, kernel_size=(3, 3), stride=(1, 1), padding=(1, 1))\n",
       "    (groupnorm_2): GroupNorm(32, 256, eps=1e-05, affine=True)\n",
       "    (conv_2): Conv2d(256, 256, kernel_size=(3, 3), stride=(1, 1), padding=(1, 1))\n",
       "    (residual_layer): Identity()\n",
       "  )\n",
       "  (6): Conv2d(256, 256, kernel_size=(3, 3), stride=(2, 2))\n",
       "  (7): VAE_ResidualBlock(\n",
       "    (groupnorm_1): GroupNorm(32, 256, eps=1e-05, affine=True)\n",
       "    (conv_1): Conv2d(256, 512, kernel_size=(3, 3), stride=(1, 1), padding=(1, 1))\n",
       "    (groupnorm_2): GroupNorm(32, 512, eps=1e-05, affine=True)\n",
       "    (conv_2): Conv2d(512, 512, kernel_size=(3, 3), stride=(1, 1), padding=(1, 1))\n",
       "    (residual_layer): Conv2d(256, 512, kernel_size=(3, 3), stride=(1, 1))\n",
       "  )\n",
       "  (8): VAE_ResidualBlock(\n",
       "    (groupnorm_1): GroupNorm(32, 512, eps=1e-05, affine=True)\n",
       "    (conv_1): Conv2d(512, 512, kernel_size=(3, 3), stride=(1, 1), padding=(1, 1))\n",
       "    (groupnorm_2): GroupNorm(32, 512, eps=1e-05, affine=True)\n",
       "    (conv_2): Conv2d(512, 512, kernel_size=(3, 3), stride=(1, 1), padding=(1, 1))\n",
       "    (residual_layer): Identity()\n",
       "  )\n",
       "  (9): Conv2d(512, 512, kernel_size=(3, 3), stride=(2, 2))\n",
       "  (10): VAE_ResidualBlock(\n",
       "    (groupnorm_1): GroupNorm(32, 512, eps=1e-05, affine=True)\n",
       "    (conv_1): Conv2d(512, 512, kernel_size=(3, 3), stride=(1, 1), padding=(1, 1))\n",
       "    (groupnorm_2): GroupNorm(32, 512, eps=1e-05, affine=True)\n",
       "    (conv_2): Conv2d(512, 512, kernel_size=(3, 3), stride=(1, 1), padding=(1, 1))\n",
       "    (residual_layer): Identity()\n",
       "  )\n",
       "  (11): VAE_ResidualBlock(\n",
       "    (groupnorm_1): GroupNorm(32, 512, eps=1e-05, affine=True)\n",
       "    (conv_1): Conv2d(512, 512, kernel_size=(3, 3), stride=(1, 1), padding=(1, 1))\n",
       "    (groupnorm_2): GroupNorm(32, 512, eps=1e-05, affine=True)\n",
       "    (conv_2): Conv2d(512, 512, kernel_size=(3, 3), stride=(1, 1), padding=(1, 1))\n",
       "    (residual_layer): Identity()\n",
       "  )\n",
       "  (12): VAE_ResidualBlock(\n",
       "    (groupnorm_1): GroupNorm(32, 512, eps=1e-05, affine=True)\n",
       "    (conv_1): Conv2d(512, 512, kernel_size=(3, 3), stride=(1, 1), padding=(1, 1))\n",
       "    (groupnorm_2): GroupNorm(32, 512, eps=1e-05, affine=True)\n",
       "    (conv_2): Conv2d(512, 512, kernel_size=(3, 3), stride=(1, 1), padding=(1, 1))\n",
       "    (residual_layer): Identity()\n",
       "  )\n",
       "  (13): VAE_AttentionBlock(\n",
       "    (groupnorm): GroupNorm(32, 512, eps=1e-05, affine=True)\n",
       "    (attention): SelfAttention(\n",
       "      (in_proj): Linear(in_features=512, out_features=1536, bias=True)\n",
       "      (out_proj): Linear(in_features=512, out_features=512, bias=True)\n",
       "    )\n",
       "  )\n",
       "  (14): VAE_ResidualBlock(\n",
       "    (groupnorm_1): GroupNorm(32, 512, eps=1e-05, affine=True)\n",
       "    (conv_1): Conv2d(512, 512, kernel_size=(3, 3), stride=(1, 1), padding=(1, 1))\n",
       "    (groupnorm_2): GroupNorm(32, 512, eps=1e-05, affine=True)\n",
       "    (conv_2): Conv2d(512, 512, kernel_size=(3, 3), stride=(1, 1), padding=(1, 1))\n",
       "    (residual_layer): Identity()\n",
       "  )\n",
       "  (15): GroupNorm(32, 512, eps=1e-05, affine=True)\n",
       "  (16): SiLU()\n",
       "  (17): Conv2d(512, 8, kernel_size=(3, 3), stride=(1, 1), padding=(1, 1))\n",
       "  (18): Conv2d(8, 8, kernel_size=(1, 1), stride=(1, 1))\n",
       ")>"
      ]
     },
     "execution_count": 3,
     "metadata": {},
     "output_type": "execute_result"
    }
   ],
   "source": [
    "encoder.state_dict"
   ]
  },
  {
   "cell_type": "code",
   "execution_count": null,
   "metadata": {},
   "outputs": [],
   "source": []
  }
 ],
 "metadata": {
  "kernelspec": {
   "display_name": "diffusion",
   "language": "python",
   "name": "python3"
  },
  "language_info": {
   "codemirror_mode": {
    "name": "ipython",
    "version": 3
   },
   "file_extension": ".py",
   "mimetype": "text/x-python",
   "name": "python",
   "nbconvert_exporter": "python",
   "pygments_lexer": "ipython3",
   "version": "3.11.7"
  }
 },
 "nbformat": 4,
 "nbformat_minor": 2
}
